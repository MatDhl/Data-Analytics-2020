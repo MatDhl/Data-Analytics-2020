{
 "cells": [
  {
   "cell_type": "markdown",
   "metadata": {
    "colab_type": "text",
    "id": "oni5lR3BQC46"
   },
   "source": [
    "# Factor analysis using Python \n",
    "\n",
    "This Jupyter Notebook is available for you to walk through the steps of performing a factor analysis in Python using a case data set. \n",
    "\n",
    "You will start by loading the packages that you require:\n",
    "\n",
    "The \"import\" command fetches the stored packages and loads them to your interface.\n",
    "Using the \"as\" command names the packages to make your code more succinct and usable. \n",
    "\n",
    "You may need to install the packages first. This requires a command called a \"!pip install\". In this command, \"pip\" refers to the package manager, whereas \"install\" requests the installation."
   ]
  },
  {
   "cell_type": "code",
   "execution_count": 1,
   "metadata": {
    "colab": {
     "base_uri": "https://localhost:8080/",
     "height": 333
    },
    "colab_type": "code",
    "id": "Fj2jIhi8QC48",
    "outputId": "c36f6180-8ddc-4b16-e13b-0930e57bd93b"
   },
   "outputs": [
    {
     "name": "stdout",
     "output_type": "stream",
     "text": [
      "Requirement already satisfied: factor_analyzer in c:\\users\\212693013\\appdata\\local\\continuum\\anaconda3\\lib\\site-packages (0.3.2)\n",
      "Requirement already satisfied: scikit-learn in c:\\users\\212693013\\appdata\\local\\continuum\\anaconda3\\lib\\site-packages (from factor_analyzer) (0.19.2)\n",
      "Requirement already satisfied: scipy in c:\\users\\212693013\\appdata\\local\\continuum\\anaconda3\\lib\\site-packages (from factor_analyzer) (1.1.0)\n",
      "Requirement already satisfied: numpy in c:\\users\\212693013\\appdata\\local\\continuum\\anaconda3\\lib\\site-packages (from factor_analyzer) (1.15.1)\n",
      "Requirement already satisfied: pandas in c:\\users\\212693013\\appdata\\local\\continuum\\anaconda3\\lib\\site-packages (from factor_analyzer) (0.25.3)\n",
      "Requirement already satisfied: pytz>=2017.2 in c:\\users\\212693013\\appdata\\local\\continuum\\anaconda3\\lib\\site-packages (from pandas->factor_analyzer) (2018.5)\n",
      "Requirement already satisfied: python-dateutil>=2.6.1 in c:\\users\\212693013\\appdata\\local\\continuum\\anaconda3\\lib\\site-packages (from pandas->factor_analyzer) (2.7.3)\n",
      "Requirement already satisfied: six>=1.5 in c:\\users\\212693013\\appdata\\local\\continuum\\anaconda3\\lib\\site-packages (from python-dateutil>=2.6.1->pandas->factor_analyzer) (1.11.0)\n"
     ]
    },
    {
     "name": "stderr",
     "output_type": "stream",
     "text": [
      "WARNING: You are using pip version 19.3.1; however, version 20.0.2 is available.\n",
      "You should consider upgrading via the 'python -m pip install --upgrade pip' command.\n"
     ]
    },
    {
     "name": "stdout",
     "output_type": "stream",
     "text": [
      "Requirement already satisfied: pyreadstat in c:\\users\\212693013\\appdata\\local\\continuum\\anaconda3\\lib\\site-packages (0.3.1)\n",
      "Requirement already satisfied: pandas>0.24.0 in c:\\users\\212693013\\appdata\\local\\continuum\\anaconda3\\lib\\site-packages (from pyreadstat) (0.25.3)\n",
      "Requirement already satisfied: pytz>=2017.2 in c:\\users\\212693013\\appdata\\local\\continuum\\anaconda3\\lib\\site-packages (from pandas>0.24.0->pyreadstat) (2018.5)\n",
      "Requirement already satisfied: numpy>=1.13.3 in c:\\users\\212693013\\appdata\\local\\continuum\\anaconda3\\lib\\site-packages (from pandas>0.24.0->pyreadstat) (1.15.1)\n",
      "Requirement already satisfied: python-dateutil>=2.6.1 in c:\\users\\212693013\\appdata\\local\\continuum\\anaconda3\\lib\\site-packages (from pandas>0.24.0->pyreadstat) (2.7.3)\n",
      "Requirement already satisfied: six>=1.5 in c:\\users\\212693013\\appdata\\local\\continuum\\anaconda3\\lib\\site-packages (from python-dateutil>=2.6.1->pandas>0.24.0->pyreadstat) (1.11.0)\n"
     ]
    },
    {
     "name": "stderr",
     "output_type": "stream",
     "text": [
      "WARNING: You are using pip version 19.3.1; however, version 20.0.2 is available.\n",
      "You should consider upgrading via the 'python -m pip install --upgrade pip' command.\n"
     ]
    }
   ],
   "source": [
    "#First if you dont have these packages installed \n",
    "!pip install factor_analyzer\n",
    "!pip install pyreadstat \n",
    "import matplotlib.pyplot as plt\n",
    "\n",
    "import pandas as pd \n",
    "import numpy as np\n",
    "from factor_analyzer import FactorAnalyzer # What we will use for factor analysis\n",
    "import pyreadstat # dependancy for for reading sav's"
   ]
  },
  {
   "cell_type": "markdown",
   "metadata": {
    "colab_type": "text",
    "id": "AVL8LwSxQC4_"
   },
   "source": [
    "When you wish to call any pandas function, you will type pd.<function> The abbreviation \"pd.\" will access the package and then you can type the function's name that you wish to call. For example, you will type pd.read_spss(\"\")."
   ]
  },
  {
   "cell_type": "code",
   "execution_count": 2,
   "metadata": {
    "colab": {},
    "colab_type": "code",
    "id": "2ii3pba_QC5A",
    "outputId": "1c420e35-5b98-4480-9fe9-f26a93e2fb72"
   },
   "outputs": [
    {
     "data": {
      "text/html": [
       "<div>\n",
       "<style scoped>\n",
       "    .dataframe tbody tr th:only-of-type {\n",
       "        vertical-align: middle;\n",
       "    }\n",
       "\n",
       "    .dataframe tbody tr th {\n",
       "        vertical-align: top;\n",
       "    }\n",
       "\n",
       "    .dataframe thead th {\n",
       "        text-align: right;\n",
       "    }\n",
       "</style>\n",
       "<table border=\"1\" class=\"dataframe\">\n",
       "  <thead>\n",
       "    <tr style=\"text-align: right;\">\n",
       "      <th></th>\n",
       "      <th>age</th>\n",
       "      <th>education</th>\n",
       "      <th>year_emp</th>\n",
       "      <th>income</th>\n",
       "      <th>debt_income</th>\n",
       "      <th>cred_debt</th>\n",
       "      <th>other_debt</th>\n",
       "      <th>loan</th>\n",
       "      <th>location</th>\n",
       "      <th>risk_score</th>\n",
       "    </tr>\n",
       "  </thead>\n",
       "  <tbody>\n",
       "    <tr>\n",
       "      <th>95</th>\n",
       "      <td>41.0</td>\n",
       "      <td>Primary</td>\n",
       "      <td>1.0</td>\n",
       "      <td>19000.0</td>\n",
       "      <td>4.4</td>\n",
       "      <td>242.0</td>\n",
       "      <td>594.0</td>\n",
       "      <td>No</td>\n",
       "      <td>Durban</td>\n",
       "      <td>69.82</td>\n",
       "    </tr>\n",
       "    <tr>\n",
       "      <th>96</th>\n",
       "      <td>34.0</td>\n",
       "      <td>Primary</td>\n",
       "      <td>12.0</td>\n",
       "      <td>68000.0</td>\n",
       "      <td>25.1</td>\n",
       "      <td>7817.0</td>\n",
       "      <td>9251.0</td>\n",
       "      <td>Yes</td>\n",
       "      <td>Johannesburg</td>\n",
       "      <td>43.61</td>\n",
       "    </tr>\n",
       "    <tr>\n",
       "      <th>97</th>\n",
       "      <td>27.0</td>\n",
       "      <td>Primary</td>\n",
       "      <td>5.0</td>\n",
       "      <td>26000.0</td>\n",
       "      <td>1.2</td>\n",
       "      <td>130.0</td>\n",
       "      <td>182.0</td>\n",
       "      <td>No</td>\n",
       "      <td>Durban</td>\n",
       "      <td>77.79</td>\n",
       "    </tr>\n",
       "    <tr>\n",
       "      <th>98</th>\n",
       "      <td>24.0</td>\n",
       "      <td>Secondary</td>\n",
       "      <td>2.0</td>\n",
       "      <td>26000.0</td>\n",
       "      <td>9.7</td>\n",
       "      <td>888.0</td>\n",
       "      <td>1634.0</td>\n",
       "      <td>Yes</td>\n",
       "      <td>Johannesburg</td>\n",
       "      <td>83.45</td>\n",
       "    </tr>\n",
       "    <tr>\n",
       "      <th>99</th>\n",
       "      <td>24.0</td>\n",
       "      <td>Primary</td>\n",
       "      <td>2.0</td>\n",
       "      <td>21000.0</td>\n",
       "      <td>0.6</td>\n",
       "      <td>25.0</td>\n",
       "      <td>101.0</td>\n",
       "      <td>No</td>\n",
       "      <td>Cape Town</td>\n",
       "      <td>93.06</td>\n",
       "    </tr>\n",
       "  </tbody>\n",
       "</table>\n",
       "</div>"
      ],
      "text/plain": [
       "     age  education  year_emp   income  debt_income  cred_debt  other_debt  \\\n",
       "95  41.0    Primary       1.0  19000.0          4.4      242.0       594.0   \n",
       "96  34.0    Primary      12.0  68000.0         25.1     7817.0      9251.0   \n",
       "97  27.0    Primary       5.0  26000.0          1.2      130.0       182.0   \n",
       "98  24.0  Secondary       2.0  26000.0          9.7      888.0      1634.0   \n",
       "99  24.0    Primary       2.0  21000.0          0.6       25.0       101.0   \n",
       "\n",
       "   loan      location  risk_score  \n",
       "95   No        Durban       69.82  \n",
       "96  Yes  Johannesburg       43.61  \n",
       "97   No        Durban       77.79  \n",
       "98  Yes  Johannesburg       83.45  \n",
       "99   No     Cape Town       93.06  "
      ]
     },
     "execution_count": 2,
     "metadata": {},
     "output_type": "execute_result"
    }
   ],
   "source": [
    "LOANS = pd.read_spss(\"LOANS.sav\")\n",
    "LOANS.tail()"
   ]
  },
  {
   "cell_type": "markdown",
   "metadata": {
    "colab_type": "text",
    "id": "DavuCwMtQC5E"
   },
   "source": [
    "You will notice that Python automatically pulls the first 5 rows of the dataset, with the different variables shown in each column. \n",
    "\n",
    "The analysis will be performed on the Speedy Loans case data set, which you used in Tableau in the previous modules. As a reminder, the variables that were recorded in this data set are described below:\n",
    "\n",
    "**age** – Age of the applicant in years: Integer numeric\n",
    "\n",
    "**education** – The education level of the applicant categorised as \"Primary\", \"Secondary\", \"Some tertiary\", and \"Full tertiary\": Ordinal categorical\n",
    "\n",
    "**year_emp** – Number of years with current employer: Integer numeric\n",
    "\n",
    "**income** – Average monthly income in South African Rands: Continuous numeric\n",
    "\n",
    "**debt_income** – Debt-to-income ratio: Continuous numeric\n",
    "\n",
    "**cred_debt** – Average monthly credit card debt in South African Rands: Continuous numeric\n",
    "\n",
    "**other_debt** – Average monthly other debts in South African Rands: Continuous numeric\n",
    "\n",
    "**loan** – 1 = Bank approved loan, 0 = Bank did not approve loan: Binary categorical\n",
    "\n",
    "**location** – Geographical location: either \"Cape Town\", \"Johannesburg\", or \"Durban\": Categorical\n",
    "\n",
    "**risk_score** – Credit risk score out of 100 for each applicant: Continuous numeric\n",
    "\n",
    "We will define our independent variables to be numeric only. This means we will exclude the education, loan, and location variables. "
   ]
  },
  {
   "cell_type": "code",
   "execution_count": 3,
   "metadata": {
    "colab": {},
    "colab_type": "code",
    "id": "KPmxKYdgQC5F",
    "outputId": "a553a75b-b499-4492-bfe0-5954e3642e22"
   },
   "outputs": [
    {
     "data": {
      "text/plain": [
       "age            float64\n",
       "year_emp       float64\n",
       "income         float64\n",
       "debt_income    float64\n",
       "cred_debt      float64\n",
       "other_debt     float64\n",
       "risk_score     float64\n",
       "dtype: object"
      ]
     },
     "execution_count": 3,
     "metadata": {},
     "output_type": "execute_result"
    }
   ],
   "source": [
    "# REMEMBER: python is zero indexed, so the first variable \"age\" is indexed as variable \"0\" \n",
    "X = LOANS.iloc[:,pd.np.r_[0, 2:7, 9]].astype(float) \n",
    "\n",
    "X.dtypes # This shows the variable types ensuring that you are working with numerical variables only"
   ]
  },
  {
   "cell_type": "markdown",
   "metadata": {
    "colab_type": "text",
    "id": "7mfJMiEEdHMD"
   },
   "source": [
    "Next, you will generate a correlation matrix in order to test whether any multicollinearity exists between the variables within the dataset."
   ]
  },
  {
   "cell_type": "code",
   "execution_count": 4,
   "metadata": {
    "colab": {},
    "colab_type": "code",
    "id": "_3Oh02vpQC5I",
    "outputId": "a23f1989-f1eb-4ade-9532-7ed36d85ee01"
   },
   "outputs": [
    {
     "data": {
      "text/html": [
       "<div>\n",
       "<style scoped>\n",
       "    .dataframe tbody tr th:only-of-type {\n",
       "        vertical-align: middle;\n",
       "    }\n",
       "\n",
       "    .dataframe tbody tr th {\n",
       "        vertical-align: top;\n",
       "    }\n",
       "\n",
       "    .dataframe thead th {\n",
       "        text-align: right;\n",
       "    }\n",
       "</style>\n",
       "<table border=\"1\" class=\"dataframe\">\n",
       "  <thead>\n",
       "    <tr style=\"text-align: right;\">\n",
       "      <th></th>\n",
       "      <th>age</th>\n",
       "      <th>year_emp</th>\n",
       "      <th>income</th>\n",
       "      <th>debt_income</th>\n",
       "      <th>cred_debt</th>\n",
       "      <th>other_debt</th>\n",
       "      <th>risk_score</th>\n",
       "    </tr>\n",
       "  </thead>\n",
       "  <tbody>\n",
       "    <tr>\n",
       "      <th>age</th>\n",
       "      <td>1.000000</td>\n",
       "      <td>0.494176</td>\n",
       "      <td>0.552017</td>\n",
       "      <td>-0.000036</td>\n",
       "      <td>0.240627</td>\n",
       "      <td>0.366919</td>\n",
       "      <td>-0.544468</td>\n",
       "    </tr>\n",
       "    <tr>\n",
       "      <th>year_emp</th>\n",
       "      <td>0.494176</td>\n",
       "      <td>1.000000</td>\n",
       "      <td>0.707939</td>\n",
       "      <td>0.084868</td>\n",
       "      <td>0.442967</td>\n",
       "      <td>0.462382</td>\n",
       "      <td>-0.516489</td>\n",
       "    </tr>\n",
       "    <tr>\n",
       "      <th>income</th>\n",
       "      <td>0.552017</td>\n",
       "      <td>0.707939</td>\n",
       "      <td>1.000000</td>\n",
       "      <td>-0.004948</td>\n",
       "      <td>0.552393</td>\n",
       "      <td>0.511341</td>\n",
       "      <td>-0.599133</td>\n",
       "    </tr>\n",
       "    <tr>\n",
       "      <th>debt_income</th>\n",
       "      <td>-0.000036</td>\n",
       "      <td>0.084868</td>\n",
       "      <td>-0.004948</td>\n",
       "      <td>1.000000</td>\n",
       "      <td>0.646941</td>\n",
       "      <td>0.727518</td>\n",
       "      <td>0.208019</td>\n",
       "    </tr>\n",
       "    <tr>\n",
       "      <th>cred_debt</th>\n",
       "      <td>0.240627</td>\n",
       "      <td>0.442967</td>\n",
       "      <td>0.552393</td>\n",
       "      <td>0.646941</td>\n",
       "      <td>1.000000</td>\n",
       "      <td>0.747201</td>\n",
       "      <td>-0.193568</td>\n",
       "    </tr>\n",
       "    <tr>\n",
       "      <th>other_debt</th>\n",
       "      <td>0.366919</td>\n",
       "      <td>0.462382</td>\n",
       "      <td>0.511341</td>\n",
       "      <td>0.727518</td>\n",
       "      <td>0.747201</td>\n",
       "      <td>1.000000</td>\n",
       "      <td>-0.168682</td>\n",
       "    </tr>\n",
       "    <tr>\n",
       "      <th>risk_score</th>\n",
       "      <td>-0.544468</td>\n",
       "      <td>-0.516489</td>\n",
       "      <td>-0.599133</td>\n",
       "      <td>0.208019</td>\n",
       "      <td>-0.193568</td>\n",
       "      <td>-0.168682</td>\n",
       "      <td>1.000000</td>\n",
       "    </tr>\n",
       "  </tbody>\n",
       "</table>\n",
       "</div>"
      ],
      "text/plain": [
       "                  age  year_emp    income  debt_income  cred_debt  other_debt  \\\n",
       "age          1.000000  0.494176  0.552017    -0.000036   0.240627    0.366919   \n",
       "year_emp     0.494176  1.000000  0.707939     0.084868   0.442967    0.462382   \n",
       "income       0.552017  0.707939  1.000000    -0.004948   0.552393    0.511341   \n",
       "debt_income -0.000036  0.084868 -0.004948     1.000000   0.646941    0.727518   \n",
       "cred_debt    0.240627  0.442967  0.552393     0.646941   1.000000    0.747201   \n",
       "other_debt   0.366919  0.462382  0.511341     0.727518   0.747201    1.000000   \n",
       "risk_score  -0.544468 -0.516489 -0.599133     0.208019  -0.193568   -0.168682   \n",
       "\n",
       "             risk_score  \n",
       "age           -0.544468  \n",
       "year_emp      -0.516489  \n",
       "income        -0.599133  \n",
       "debt_income    0.208019  \n",
       "cred_debt     -0.193568  \n",
       "other_debt    -0.168682  \n",
       "risk_score     1.000000  "
      ]
     },
     "execution_count": 4,
     "metadata": {},
     "output_type": "execute_result"
    }
   ],
   "source": [
    "Xcorr = X.corr() # correlation matrix\n",
    "Xcorr"
   ]
  },
  {
   "cell_type": "markdown",
   "metadata": {
    "colab_type": "text",
    "id": "IqNcsrj3QC5L"
   },
   "source": [
    "Do you notice any variables that appear to be highly correlated – whether positively or negatively? \n",
    "\n",
    "Next, you need to calculate the eigenvalues, the percentage variance, and the percentage of cumulative variance explained."
   ]
  },
  {
   "cell_type": "markdown",
   "metadata": {},
   "source": [
    "**ANSWER: The following variables show high correlation: \n",
    "\n",
    "--year of employemt and income \n",
    "--debt to income ratio and other debt\n",
    "--credit debt and other debt"
   ]
  },
  {
   "cell_type": "code",
   "execution_count": 5,
   "metadata": {
    "colab": {},
    "colab_type": "code",
    "id": "2N056wweQC5L",
    "outputId": "b7aaa08b-c678-40ca-ca69-33e2798e17d9"
   },
   "outputs": [
    {
     "data": {
      "text/html": [
       "<div>\n",
       "<style scoped>\n",
       "    .dataframe tbody tr th:only-of-type {\n",
       "        vertical-align: middle;\n",
       "    }\n",
       "\n",
       "    .dataframe tbody tr th {\n",
       "        vertical-align: top;\n",
       "    }\n",
       "\n",
       "    .dataframe thead th {\n",
       "        text-align: right;\n",
       "    }\n",
       "</style>\n",
       "<table border=\"1\" class=\"dataframe\">\n",
       "  <thead>\n",
       "    <tr style=\"text-align: right;\">\n",
       "      <th></th>\n",
       "      <th>Eigenvalues</th>\n",
       "      <th>% Variance</th>\n",
       "      <th>% Cumulative Variance</th>\n",
       "    </tr>\n",
       "  </thead>\n",
       "  <tbody>\n",
       "    <tr>\n",
       "      <th>0</th>\n",
       "      <td>3.508563</td>\n",
       "      <td>0.501223</td>\n",
       "      <td>0.501223</td>\n",
       "    </tr>\n",
       "    <tr>\n",
       "      <th>1</th>\n",
       "      <td>1.888275</td>\n",
       "      <td>0.269754</td>\n",
       "      <td>0.770977</td>\n",
       "    </tr>\n",
       "    <tr>\n",
       "      <th>2</th>\n",
       "      <td>0.566784</td>\n",
       "      <td>0.080969</td>\n",
       "      <td>0.851946</td>\n",
       "    </tr>\n",
       "    <tr>\n",
       "      <th>3</th>\n",
       "      <td>0.413134</td>\n",
       "      <td>0.059019</td>\n",
       "      <td>0.910965</td>\n",
       "    </tr>\n",
       "    <tr>\n",
       "      <th>4</th>\n",
       "      <td>0.331110</td>\n",
       "      <td>0.047301</td>\n",
       "      <td>0.958267</td>\n",
       "    </tr>\n",
       "    <tr>\n",
       "      <th>5</th>\n",
       "      <td>0.209811</td>\n",
       "      <td>0.029973</td>\n",
       "      <td>0.988240</td>\n",
       "    </tr>\n",
       "    <tr>\n",
       "      <th>6</th>\n",
       "      <td>0.082322</td>\n",
       "      <td>0.011760</td>\n",
       "      <td>1.000000</td>\n",
       "    </tr>\n",
       "  </tbody>\n",
       "</table>\n",
       "</div>"
      ],
      "text/plain": [
       "   Eigenvalues  % Variance  % Cumulative Variance\n",
       "0     3.508563    0.501223               0.501223\n",
       "1     1.888275    0.269754               0.770977\n",
       "2     0.566784    0.080969               0.851946\n",
       "3     0.413134    0.059019               0.910965\n",
       "4     0.331110    0.047301               0.958267\n",
       "5     0.209811    0.029973               0.988240\n",
       "6     0.082322    0.011760               1.000000"
      ]
     },
     "execution_count": 5,
     "metadata": {},
     "output_type": "execute_result"
    }
   ],
   "source": [
    "eigenvalues = np.linalg.eigvals(Xcorr) # Computing the eigenvalues\n",
    "\n",
    "percentageVariance = eigenvalues/sum(eigenvalues)\n",
    "cumPercentageVariance = np.cumsum(eigenvalues)/sum(eigenvalues)\n",
    "\n",
    "d ={\"Eigenvalues\":eigenvalues,\n",
    "    \"% Variance\":percentageVariance,\n",
    "    \"% Cumulative Variance\":cumPercentageVariance}\n",
    "\n",
    "# creates an output in a more elegant format\n",
    "extractionFactors = pd.DataFrame(d) \n",
    "\n",
    "extractionFactors"
   ]
  },
  {
   "cell_type": "markdown",
   "metadata": {
    "colab_type": "text",
    "id": "9upF5qQ_QC5P"
   },
   "source": [
    "After calculating the eigenvalues, the next step is to create a scree plot that will help you to determine the number of factors you should select. This can be achieved either using Kaiser's criterion or the elbow rule. \n",
    "\n",
    "Once again, remember that Python uses zero indexing so \"range(1,len(percentageVariance)+1)\" gives us a sequence from 1 to the length of our variable, but it is not inclusive, so we need to add 1. "
   ]
  },
  {
   "cell_type": "code",
   "execution_count": 6,
   "metadata": {
    "colab": {},
    "colab_type": "code",
    "id": "Yda4-nfrQC5Q",
    "outputId": "4845a601-748c-4bd8-d075-0d4f13acf95d"
   },
   "outputs": [
    {
     "data": {
      "image/png": "[encoded data removed]",
      "text/plain": [
       "<Figure size 432x288 with 1 Axes>"
      ]
     },
     "metadata": {
      "needs_background": "light"
     },
     "output_type": "display_data"
    }
   ],
   "source": [
    "plt.plot(range(1,len(eigenvalues)+1), eigenvalues, label = \"eigenvalues\", marker='o') \n",
    "# Creating the scree plot \n",
    "\n",
    "# Naming the x-axis \n",
    "plt.xlabel('Number of components') \n",
    "# Naming the y-axis \n",
    "plt.ylabel('Eigenvalues') \n",
    "# Giving a title to the graph \n",
    "plt.title('Scree plot') \n",
    "# Add a red dotted line at y=1 which is the cut-off value for the Kaiser's rule\n",
    "plt.axhline(y=1, color='r', linestyle=\"--\")\n",
    "# Show a legend on the plot \n",
    "plt.legend() \n",
    "  \n",
    "# Function to show the plot \n",
    "plt.show() "
   ]
  },
  {
   "cell_type": "markdown",
   "metadata": {
    "colab_type": "text",
    "id": "UBW_G3afQC5U"
   },
   "source": [
    "Using Kaiser's criterion, you can select the number of factors based on variables that have eigenvalues above 1. For the elbow rule, you would select the number of factors when the variance explained by the addition of variables becomes negligible.\n",
    "\n",
    "Based on the above scree plot, and using either Kaiser's criterion or the elbow rule, decide on the number of factors that you would select. For each method, consider the cumulative percentage of variance explained by the number of factors you include. This will help you decide whether it is feasible to include additional factors into the analysis."
   ]
  },
  {
   "cell_type": "markdown",
   "metadata": {
    "colab_type": "text",
    "id": "a31M2LYIQC5V"
   },
   "source": [
    "## Factor Analysis\n",
    "\n",
    "Next, you will perform the factor analysis: first without rotation and then with orthogonal rotation. The analyses will provide you with both the factor loadings as well as the communalities.\n",
    "\n",
    "For ease, all loadings and communalties will be rounded to two decimals."
   ]
  },
  {
   "cell_type": "markdown",
   "metadata": {
    "colab_type": "text",
    "id": "wefzPwioQC5W"
   },
   "source": [
    "### No-rotation factor solution"
   ]
  },
  {
   "cell_type": "code",
   "execution_count": 7,
   "metadata": {
    "colab": {},
    "colab_type": "code",
    "id": "FOELrjFSQC5X"
   },
   "outputs": [],
   "source": [
    "# Create factor analysis object and perform factor analysis\n",
    "\n",
    "fa = FactorAnalyzer(n_factors=3,rotation=None,method=\"ML\") # Using maximum likelihood method\n",
    "fa.fit(X)\n",
    "\n",
    "# Save them as dataframes and the rows (index) are to be named the columns of X\n",
    "loadings = pd.DataFrame(fa.loadings_, index=X.columns,)\n",
    "communalities = pd.DataFrame(fa.get_communalities(), index=X.columns)"
   ]
  },
  {
   "cell_type": "code",
   "execution_count": 8,
   "metadata": {
    "colab": {},
    "colab_type": "code",
    "id": "siIIv7a1QC5b",
    "outputId": "baa9a6d7-abc8-4720-cfe2-f48ef28978cb"
   },
   "outputs": [
    {
     "data": {
      "text/html": [
       "<div>\n",
       "<style scoped>\n",
       "    .dataframe tbody tr th:only-of-type {\n",
       "        vertical-align: middle;\n",
       "    }\n",
       "\n",
       "    .dataframe tbody tr th {\n",
       "        vertical-align: top;\n",
       "    }\n",
       "\n",
       "    .dataframe thead th {\n",
       "        text-align: right;\n",
       "    }\n",
       "</style>\n",
       "<table border=\"1\" class=\"dataframe\">\n",
       "  <thead>\n",
       "    <tr style=\"text-align: right;\">\n",
       "      <th></th>\n",
       "      <th>0</th>\n",
       "      <th>1</th>\n",
       "      <th>2</th>\n",
       "    </tr>\n",
       "  </thead>\n",
       "  <tbody>\n",
       "    <tr>\n",
       "      <th>age</th>\n",
       "      <td>0.60</td>\n",
       "      <td>0.01</td>\n",
       "      <td>0.64</td>\n",
       "    </tr>\n",
       "    <tr>\n",
       "      <th>year_emp</th>\n",
       "      <td>0.73</td>\n",
       "      <td>0.10</td>\n",
       "      <td>0.10</td>\n",
       "    </tr>\n",
       "    <tr>\n",
       "      <th>income</th>\n",
       "      <td>0.98</td>\n",
       "      <td>0.01</td>\n",
       "      <td>-0.06</td>\n",
       "    </tr>\n",
       "    <tr>\n",
       "      <th>debt_income</th>\n",
       "      <td>-0.02</td>\n",
       "      <td>1.00</td>\n",
       "      <td>0.00</td>\n",
       "    </tr>\n",
       "    <tr>\n",
       "      <th>cred_debt</th>\n",
       "      <td>0.54</td>\n",
       "      <td>0.66</td>\n",
       "      <td>-0.14</td>\n",
       "    </tr>\n",
       "    <tr>\n",
       "      <th>other_debt</th>\n",
       "      <td>0.51</td>\n",
       "      <td>0.74</td>\n",
       "      <td>0.07</td>\n",
       "    </tr>\n",
       "    <tr>\n",
       "      <th>risk_score</th>\n",
       "      <td>-0.63</td>\n",
       "      <td>0.20</td>\n",
       "      <td>-0.26</td>\n",
       "    </tr>\n",
       "  </tbody>\n",
       "</table>\n",
       "</div>"
      ],
      "text/plain": [
       "                0     1     2\n",
       "age          0.60  0.01  0.64\n",
       "year_emp     0.73  0.10  0.10\n",
       "income       0.98  0.01 -0.06\n",
       "debt_income -0.02  1.00  0.00\n",
       "cred_debt    0.54  0.66 -0.14\n",
       "other_debt   0.51  0.74  0.07\n",
       "risk_score  -0.63  0.20 -0.26"
      ]
     },
     "execution_count": 8,
     "metadata": {},
     "output_type": "execute_result"
    }
   ],
   "source": [
    "loadings.round(2) "
   ]
  },
  {
   "cell_type": "markdown",
   "metadata": {
    "colab_type": "text",
    "id": "fLetdU1OQC5e"
   },
   "source": [
    "Based on the factor loadings in the unrotated factor solution, think about how each variable loads onto the factors. Are there instances where a variable loads equally on more than one factor? "
   ]
  },
  {
   "cell_type": "markdown",
   "metadata": {},
   "source": [
    "**ANSWER:\n",
    "\n",
    "Age is the variable that loads almost equally on factors one and three. The same is true for Year employed on factors 2 and 3, except that these loading are loading very low."
   ]
  },
  {
   "cell_type": "code",
   "execution_count": 9,
   "metadata": {
    "colab": {},
    "colab_type": "code",
    "id": "JA1-UqzUQC5e",
    "outputId": "3eaf6129-920c-49c2-b267-732f91eedee3"
   },
   "outputs": [
    {
     "data": {
      "text/html": [
       "<div>\n",
       "<style scoped>\n",
       "    .dataframe tbody tr th:only-of-type {\n",
       "        vertical-align: middle;\n",
       "    }\n",
       "\n",
       "    .dataframe tbody tr th {\n",
       "        vertical-align: top;\n",
       "    }\n",
       "\n",
       "    .dataframe thead th {\n",
       "        text-align: right;\n",
       "    }\n",
       "</style>\n",
       "<table border=\"1\" class=\"dataframe\">\n",
       "  <thead>\n",
       "    <tr style=\"text-align: right;\">\n",
       "      <th></th>\n",
       "      <th>0</th>\n",
       "    </tr>\n",
       "  </thead>\n",
       "  <tbody>\n",
       "    <tr>\n",
       "      <th>age</th>\n",
       "      <td>0.77</td>\n",
       "    </tr>\n",
       "    <tr>\n",
       "      <th>year_emp</th>\n",
       "      <td>0.55</td>\n",
       "    </tr>\n",
       "    <tr>\n",
       "      <th>income</th>\n",
       "      <td>0.97</td>\n",
       "    </tr>\n",
       "    <tr>\n",
       "      <th>debt_income</th>\n",
       "      <td>1.00</td>\n",
       "    </tr>\n",
       "    <tr>\n",
       "      <th>cred_debt</th>\n",
       "      <td>0.75</td>\n",
       "    </tr>\n",
       "    <tr>\n",
       "      <th>other_debt</th>\n",
       "      <td>0.82</td>\n",
       "    </tr>\n",
       "    <tr>\n",
       "      <th>risk_score</th>\n",
       "      <td>0.50</td>\n",
       "    </tr>\n",
       "  </tbody>\n",
       "</table>\n",
       "</div>"
      ],
      "text/plain": [
       "                0\n",
       "age          0.77\n",
       "year_emp     0.55\n",
       "income       0.97\n",
       "debt_income  1.00\n",
       "cred_debt    0.75\n",
       "other_debt   0.82\n",
       "risk_score   0.50"
      ]
     },
     "execution_count": 9,
     "metadata": {},
     "output_type": "execute_result"
    }
   ],
   "source": [
    "communalities.round(2)"
   ]
  },
  {
   "cell_type": "markdown",
   "metadata": {
    "colab_type": "text",
    "id": "Ho7qymkQQC5i"
   },
   "source": [
    "The communalities show the proportion of each variable's variance that can be explained by all the factors. \n",
    "\n",
    "Notice that the communalities for **income**, **cred_debt** and **other_debt** are all high, with a debt-to-income ratio (or **debt_income**) showing a communality of 1.00. Based on your understanding of communalities, why might this make sense? Think about the variables that are used to calculate the debt-to-income ratio. "
   ]
  },
  {
   "cell_type": "markdown",
   "metadata": {},
   "source": [
    "**ANSWER: \n",
    "\n",
    "Communality shows how much a variable has in common with other variables in terms of their variance. The high communality makes sense and is particularly highest on the debt-to-income (DTI) ratio beacause the DTI is a function of both income and debt (i.e. DTI= debt/income).    "
   ]
  },
  {
   "cell_type": "markdown",
   "metadata": {
    "colab_type": "text",
    "id": "hErvV9fRQC5j"
   },
   "source": [
    "### Orthogonal-rotated factor solution"
   ]
  },
  {
   "cell_type": "markdown",
   "metadata": {
    "colab_type": "text",
    "id": "xZSFrqxdihyN"
   },
   "source": [
    "Next, you will perform orthogonal rotation on your factor solution."
   ]
  },
  {
   "cell_type": "code",
   "execution_count": 10,
   "metadata": {
    "colab": {},
    "colab_type": "code",
    "id": "bhOZ0M4GQC5l"
   },
   "outputs": [],
   "source": [
    "# Create factor analysis object and perform factor analysis\n",
    "\n",
    "fa = FactorAnalyzer(n_factors=3,rotation=\"Varimax\",method=\"ML\")\n",
    "fa.fit(X)\n",
    "\n",
    "# Save them as dataframes and the rows (index) are to be named the columns of X\n",
    "loadings = pd.DataFrame(fa.loadings_, index=X.columns,)\n",
    "communalities = pd.DataFrame(fa.get_communalities(), index=X.columns)"
   ]
  },
  {
   "cell_type": "code",
   "execution_count": 11,
   "metadata": {
    "colab": {},
    "colab_type": "code",
    "id": "cCpqNbYlQC5q",
    "outputId": "1e475bd5-59ac-4058-9796-7cd7e0d33972"
   },
   "outputs": [
    {
     "data": {
      "text/html": [
       "<div>\n",
       "<style scoped>\n",
       "    .dataframe tbody tr th:only-of-type {\n",
       "        vertical-align: middle;\n",
       "    }\n",
       "\n",
       "    .dataframe tbody tr th {\n",
       "        vertical-align: top;\n",
       "    }\n",
       "\n",
       "    .dataframe thead th {\n",
       "        text-align: right;\n",
       "    }\n",
       "</style>\n",
       "<table border=\"1\" class=\"dataframe\">\n",
       "  <thead>\n",
       "    <tr style=\"text-align: right;\">\n",
       "      <th></th>\n",
       "      <th>0</th>\n",
       "      <th>1</th>\n",
       "      <th>2</th>\n",
       "    </tr>\n",
       "  </thead>\n",
       "  <tbody>\n",
       "    <tr>\n",
       "      <th>age</th>\n",
       "      <td>0.11</td>\n",
       "      <td>0.30</td>\n",
       "      <td>0.82</td>\n",
       "    </tr>\n",
       "    <tr>\n",
       "      <th>year_emp</th>\n",
       "      <td>0.22</td>\n",
       "      <td>0.60</td>\n",
       "      <td>0.37</td>\n",
       "    </tr>\n",
       "    <tr>\n",
       "      <th>income</th>\n",
       "      <td>0.19</td>\n",
       "      <td>0.91</td>\n",
       "      <td>0.32</td>\n",
       "    </tr>\n",
       "    <tr>\n",
       "      <th>debt_income</th>\n",
       "      <td>0.98</td>\n",
       "      <td>-0.19</td>\n",
       "      <td>-0.06</td>\n",
       "    </tr>\n",
       "    <tr>\n",
       "      <th>cred_debt</th>\n",
       "      <td>0.75</td>\n",
       "      <td>0.44</td>\n",
       "      <td>0.04</td>\n",
       "    </tr>\n",
       "    <tr>\n",
       "      <th>other_debt</th>\n",
       "      <td>0.82</td>\n",
       "      <td>0.31</td>\n",
       "      <td>0.22</td>\n",
       "    </tr>\n",
       "    <tr>\n",
       "      <th>risk_score</th>\n",
       "      <td>0.09</td>\n",
       "      <td>-0.50</td>\n",
       "      <td>-0.49</td>\n",
       "    </tr>\n",
       "  </tbody>\n",
       "</table>\n",
       "</div>"
      ],
      "text/plain": [
       "                0     1     2\n",
       "age          0.11  0.30  0.82\n",
       "year_emp     0.22  0.60  0.37\n",
       "income       0.19  0.91  0.32\n",
       "debt_income  0.98 -0.19 -0.06\n",
       "cred_debt    0.75  0.44  0.04\n",
       "other_debt   0.82  0.31  0.22\n",
       "risk_score   0.09 -0.50 -0.49"
      ]
     },
     "execution_count": 11,
     "metadata": {},
     "output_type": "execute_result"
    }
   ],
   "source": [
    "loadings.round(2)"
   ]
  },
  {
   "cell_type": "markdown",
   "metadata": {
    "colab_type": "text",
    "id": "jaXgsa8oQC5t"
   },
   "source": [
    "Following rotation, how do your factor loadings differ from the unrotated factor solution? Do certain variables now load more highly on specific factors? Are there any variables that loaded highly on more than one factor that are now loading highly onto a single factor?\n",
    "\n",
    "Lastly, how might you name your factors? Based on the variables that load highly onto each factor, can you conceptually define your factors under one name? There is no right or wrong answer here; rather, it depends on your interpretation of the variables that load onto each factor."
   ]
  },
  {
   "cell_type": "markdown",
   "metadata": {},
   "source": [
    "**ANSWER:\n",
    "\n",
    "The rotation changed the factor loading for Age to load higher on one factor, and we no longer observe cross-loading. However,  the opposite is true for the Risk Score. Now we have similar loadings across two factors for this variable, making interpretation a little more complex.\n",
    "\n",
    "FACTOR 1: 'Debt Records'\n",
    "\n",
    "FACTOR 2: 'Financial Profile'\n",
    "\n",
    "FACTOR 3: 'Personal Profile' It may still be appropriate to use only 2 factors and place the Age under factor 2 and rename it \"'Personal Financial Profile'."
   ]
  },
  {
   "cell_type": "code",
   "execution_count": 12,
   "metadata": {
    "colab": {},
    "colab_type": "code",
    "id": "A_OEGDgFQC5v",
    "outputId": "5f00b725-4e2c-43b9-ce2b-b497ed1a15c9"
   },
   "outputs": [
    {
     "data": {
      "text/html": [
       "<div>\n",
       "<style scoped>\n",
       "    .dataframe tbody tr th:only-of-type {\n",
       "        vertical-align: middle;\n",
       "    }\n",
       "\n",
       "    .dataframe tbody tr th {\n",
       "        vertical-align: top;\n",
       "    }\n",
       "\n",
       "    .dataframe thead th {\n",
       "        text-align: right;\n",
       "    }\n",
       "</style>\n",
       "<table border=\"1\" class=\"dataframe\">\n",
       "  <thead>\n",
       "    <tr style=\"text-align: right;\">\n",
       "      <th></th>\n",
       "      <th>0</th>\n",
       "    </tr>\n",
       "  </thead>\n",
       "  <tbody>\n",
       "    <tr>\n",
       "      <th>age</th>\n",
       "      <td>0.77</td>\n",
       "    </tr>\n",
       "    <tr>\n",
       "      <th>year_emp</th>\n",
       "      <td>0.55</td>\n",
       "    </tr>\n",
       "    <tr>\n",
       "      <th>income</th>\n",
       "      <td>0.97</td>\n",
       "    </tr>\n",
       "    <tr>\n",
       "      <th>debt_income</th>\n",
       "      <td>1.00</td>\n",
       "    </tr>\n",
       "    <tr>\n",
       "      <th>cred_debt</th>\n",
       "      <td>0.75</td>\n",
       "    </tr>\n",
       "    <tr>\n",
       "      <th>other_debt</th>\n",
       "      <td>0.82</td>\n",
       "    </tr>\n",
       "    <tr>\n",
       "      <th>risk_score</th>\n",
       "      <td>0.50</td>\n",
       "    </tr>\n",
       "  </tbody>\n",
       "</table>\n",
       "</div>"
      ],
      "text/plain": [
       "                0\n",
       "age          0.77\n",
       "year_emp     0.55\n",
       "income       0.97\n",
       "debt_income  1.00\n",
       "cred_debt    0.75\n",
       "other_debt   0.82\n",
       "risk_score   0.50"
      ]
     },
     "execution_count": 12,
     "metadata": {},
     "output_type": "execute_result"
    }
   ],
   "source": [
    "communalities.round(2)"
   ]
  },
  {
   "cell_type": "markdown",
   "metadata": {
    "colab_type": "text",
    "id": "xL_vkBLgQC50"
   },
   "source": [
    "You will notice that the communalities remain the same in the unrotated and rotated factor solution. This makes sense since rotation does not affect the communality values. "
   ]
  }
 ],
 "metadata": {
  "colab": {
   "collapsed_sections": [],
   "name": "UCT BAN M3U3 IDE activity (Assessment).ipynb",
   "provenance": []
  },
  "kernelspec": {
   "display_name": "Python 3",
   "language": "python",
   "name": "python3"
  },
  "language_info": {
   "codemirror_mode": {
    "name": "ipython",
    "version": 3
   },
   "file_extension": ".py",
   "mimetype": "text/x-python",
   "name": "python",
   "nbconvert_exporter": "python",
   "pygments_lexer": "ipython3",
   "version": "3.7.0"
  }
 },
 "nbformat": 4,
 "nbformat_minor": 1
}
